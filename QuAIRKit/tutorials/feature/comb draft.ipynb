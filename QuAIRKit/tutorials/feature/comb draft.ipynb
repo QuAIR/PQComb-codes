{
 "cells": [
  {
   "cell_type": "markdown",
   "id": "e594174e",
   "metadata": {},
   "source": [
    "# PQCombNet\n"
   ]
  },
  {
   "cell_type": "markdown",
   "id": "d6133382",
   "metadata": {},
   "source": [
    "In this tutorial, we will guide you through the usage of `PQCombNet`, a tool for training and optimizing quantum circuits for tasks such as reversing quantum processes. The `PQCombNet` class allows for flexible control over the quantum circuit, training mode, and dataset, while providing an automated process for optimizing circuit fidelity.\n",
    "\n",
    "**Table of contents**\n",
    "\n",
    "- [Introduction to Quantum Comb Structure](#introduction)\n",
    "- [Initializing PQCombNet](#initializing)\n",
    "- [Updating Quantum Circuit Parameters](#updating)\n",
    "- [Training the Circuit](#training)\n",
    "- [Extracting the Highest Fidelity Result](#extracting)\n",
    "- [Conclusion](#conclusion)\n"
   ]
  },
  {
   "cell_type": "markdown",
   "id": "06cef290",
   "metadata": {},
   "source": [
    "## 1. Introduction to Quantum Comb Structure <a id=\"introduction\"></a>\n",
    "\n",
    "A **quantum comb** is a framework used to transform quantum processes, providing a flexible way to manipulate unitary operations. `PQCombNet` leverages **Parameterized Quantum Circuits (PQC)** to design and optimize circuits capable of performing various transformations on quantum unitary operations.\n",
    "\n",
    "For example, `PQCombNet` can be used to train circuits that reverse unknown unitary operations, but its application extends to more general tasks such as complex conjugation and other customized quantum process transformations. By adjusting the parameters of the PQC, the network can be trained to implement different types of quantum transformations with high fidelity.\n",
    "\n",
    "For more detailed theoretical insights and additional examples of quantum transformations, please refer to the original [paper](https://arxiv.org/abs/2403.03761).\n"
   ]
  },
  {
   "cell_type": "markdown",
   "id": "49fee3f8",
   "metadata": {},
   "source": [
    "## 2. Initializing PQCombNet <a id=\"initializing\"></a>\n",
    "\n",
    "To initialize the `PQCombNet` class, you need to specify several parameters, which define the behavior and structure of the quantum circuit. Below is an explanation of the key parameters:\n",
    "\n",
    "### Key Parameters\n",
    "\n",
    "- **`target_function`**: A callable function that defines the target quantum operation, typically used to optimize the circuit for a specific task. This function should support batch computation.\n",
    "\n",
    "- **`num_slots`**: The number of slots.\n",
    "\n",
    "- **`num_aux_qubits`**: The number of ancilla qubits. These qubits assist in performing the quantum operations and transformations.\n",
    "\n",
    "- **`num_qubits_U`**: The number of qubits of unitary to be queried. The default is 1.\n",
    "\n",
    "- **`train_unitary_info`**: Specifies the training dataset. It can either be an integer, which defines the size of an automatically generated dataset, or a custom tensor containing predefined unitary matrices for training. The default value is 2000.\n",
    "\n",
    "- **`test_unitary_info`**: Similar to `train_unitary_info`, but for the testing dataset. The default value is 10000.\n",
    "\n",
    "- **`train_mode`**: Defines the training mode for the quantum circuit. It can be either `\"pqc\"` (which is memory-efficient but slower) or `\"choi\"` (which is faster but uses more memory). By default, it is set to `\"choi\"`. If memory issues arise during training, the mode will automatically switch to `\"pqc\"` to ensure training continues.\n",
    "\n",
    "- **`LR`**: The initial learning rate used for training the quantum circuit. The default value is 0.1.\n",
    "\n",
    "- **`NUM_ITR`**: The max number of iterations to run during training. This determines how many times the model will process the training data and update the parameters. The default value is 1000.\n",
    "\n",
    "- **`name_task`**: The name of the training task. If not provided, it will default to `\"pqcomb_search_{target_function.__name__}\"`, where `{target_function.__name__}` is the name of the target function. This allows for easy identification and tracking of different training tasks.\n",
    "\n",
    "- **`seed`**: Used to set a seed for reproducibility. If specified, this ensures that the same results can be obtained when the training is repeated with the same data and parameters. The default is `None`, meaning no seed is set.\n",
    "\n",
    "- **`is_save_data`**: A boolean value that indicates whether the training circuits should be saved. If set to `True`, the data will be saved in a directory that includes circuit lists describing combs. The default is `False`.\n",
    "\n",
    "- **`is_auto_stop`**: A boolean value that, when set to `True`, stops the training automatically if the learning rate `LR` decreases to $10^{-3}$ of its initial value. This helps prevent unnecessary additional training once the learning rate becomes too small. The default is `True`.\n",
    "\n",
    "- **`is_ctrl_U`**: A boolean value specifying whether to apply controlled unitary operations. If `True`, a control qubit will be added to the last ancilla qubit system, and alternating $\\text{ctrl-}U$ and $\\text{ctrl-}U^\\dagger$ operations will be applied. If `False`, the circuit will apply $U$ without control qubits. The default is `False`.\n"
   ]
  },
  {
   "cell_type": "markdown",
   "id": "1bc37097",
   "metadata": {},
   "source": [
    "### Example Initialization"
   ]
  },
  {
   "cell_type": "markdown",
   "id": "62b91649",
   "metadata": {},
   "source": [
    "First of all, import the necessary libraries and then there are two options for initializing the `PQCombNet` class."
   ]
  },
  {
   "cell_type": "code",
   "execution_count": 1,
   "id": "9118d875",
   "metadata": {},
   "outputs": [],
   "source": [
    "from quairkit.application import PQCombNet"
   ]
  },
  {
   "cell_type": "markdown",
   "id": "48072d5b",
   "metadata": {},
   "source": [
    "Option 1: Initialize `PQCombNet` with only the required parameters (no default values)"
   ]
  },
  {
   "cell_type": "code",
   "execution_count": 2,
   "id": "89a29bc1",
   "metadata": {},
   "outputs": [
    {
     "ename": "TypeError",
     "evalue": "PQCombNet.__init__() got an unexpected keyword argument 'num_aux_qubits'",
     "output_type": "error",
     "traceback": [
      "\u001b[1;31m---------------------------------------------------------------------------\u001b[0m",
      "\u001b[1;31mTypeError\u001b[0m                                 Traceback (most recent call last)",
      "Cell \u001b[1;32mIn[2], line 6\u001b[0m\n\u001b[0;32m      3\u001b[0m num_slots \u001b[38;5;241m=\u001b[39m \u001b[38;5;241m2\u001b[39m\n\u001b[0;32m      4\u001b[0m num_aux_qubits \u001b[38;5;241m=\u001b[39m \u001b[38;5;241m1\u001b[39m\n\u001b[1;32m----> 6\u001b[0m net \u001b[38;5;241m=\u001b[39m \u001b[43mPQCombNet\u001b[49m\u001b[43m(\u001b[49m\n\u001b[0;32m      7\u001b[0m \u001b[43m    \u001b[49m\u001b[43mtarget_function\u001b[49m\u001b[38;5;241;43m=\u001b[39;49m\u001b[43mdagger\u001b[49m\u001b[43m,\u001b[49m\u001b[43m  \u001b[49m\u001b[38;5;66;43;03m# Callable function, no default value\u001b[39;49;00m\n\u001b[0;32m      8\u001b[0m \u001b[43m    \u001b[49m\u001b[43mnum_slots\u001b[49m\u001b[38;5;241;43m=\u001b[39;49m\u001b[43mnum_slots\u001b[49m\u001b[43m,\u001b[49m\u001b[43m  \u001b[49m\u001b[38;5;66;43;03m# Number of slots, no default value\u001b[39;49;00m\n\u001b[0;32m      9\u001b[0m \u001b[43m    \u001b[49m\u001b[43mnum_aux_qubits\u001b[49m\u001b[38;5;241;43m=\u001b[39;49m\u001b[43mnum_aux_qubits\u001b[49m\u001b[43m,\u001b[49m\u001b[43m  \u001b[49m\u001b[38;5;66;43;03m# Number of ancilla qubits, no default value\u001b[39;49;00m\n\u001b[0;32m     10\u001b[0m \u001b[43m)\u001b[49m\n",
      "\u001b[1;31mTypeError\u001b[0m: PQCombNet.__init__() got an unexpected keyword argument 'num_aux_qubits'"
     ]
    }
   ],
   "source": [
    "from quairkit.qinfo import dagger  # This tutorial uses the dagger function as example\n",
    "\n",
    "num_slots = 2\n",
    "num_aux_qubits = 1\n",
    "\n",
    "net = PQCombNet(\n",
    "    target_function=dagger,  # Callable function, no default value\n",
    "    num_slots=num_slots,  # Number of slots, no default value\n",
    "    num_aux_qubits=num_aux_qubits,  # Number of ancilla qubits, no default value\n",
    ")"
   ]
  },
  {
   "cell_type": "markdown",
   "id": "ad16f446",
   "metadata": {},
   "source": [
    "Option 2: Initialize `PQCombNet` with all parameters"
   ]
  },
  {
   "cell_type": "code",
   "execution_count": null,
   "id": "32a155ff",
   "metadata": {},
   "outputs": [],
   "source": [
    "num_qubits_U = 1\n",
    "\n",
    "net = PQCombNet(\n",
    "    target_function=dagger,  # Callable function, no default value\n",
    "    num_slots=num_slots,  # Number of slots, no default value\n",
    "    num_aux_qubits=num_aux_qubits,  # Number of ancilla qubits, no default value\n",
    "    num_qubits_U=num_qubits_U,  # Default: 1 (number of qubits for unitary operations)\n",
    "    train_unitary_info=2000,  # Default: 2000 (can be an integer or torch.Tensor for training data)\n",
    "    test_unitary_info=10000,  # Default: 10000 (can be an integer or torch.Tensor for test data)\n",
    "    train_mode=\"choi\",  # Default: \"choi\" (alternatively \"pqc\", which is memory efficient)\n",
    "    LR=0.5,  # Default: 0.1 (learning rate for optimization)\n",
    "    NUM_ITR=10000,  # Default: 1000 (number of iterations for training)\n",
    "    name_task=\"search_dag\",  # Default: None (auto-generated as \"pqcomb_search_{target_function.__name__}\")\n",
    "    seed=42,  # Default: None (random seed for reproducibility)\n",
    "    is_save_data=True,  # Default: False (whether to save training data)\n",
    "    is_auto_stop=True,  # Default: True (automatically stop training if learning rate decreases too much)\n",
    ")"
   ]
  },
  {
   "cell_type": "markdown",
   "id": "514c1323",
   "metadata": {},
   "source": [
    "This initializes a `PQCombNet` object with the specified parameters, ready for training and optimization.\n"
   ]
  },
  {
   "cell_type": "markdown",
   "id": "923a2615",
   "metadata": {},
   "source": [
    "## 3. Updating Quantum Circuit Parameters <a id=\"updating\"></a>\n",
    "\n",
    "The `update_V_circuit` method allows you to update a specific `V` circuit at a given index within the `V_circuit_list`. It accepts various types of input, such as a `ParamOracle`, `torch.Tensor`, a tuple of a tensor and qubit indices, or an entire `Circuit` object. If no specific gate is provided for a given index, the circuit will apply universal gates by default.\n",
    "\n",
    "\n",
    "### Parameters\n",
    "\n",
    "- **`index`**:  \n",
    "  An integer specifying the index of the `V` circuit in the list that you want to update.\n",
    "\n",
    "- **`new_V`**:  \n",
    "  The new circuit to replace the existing one. This can be one of the following:\n",
    "  - `Circuit`: A full parameterized quantum circuit that replaces the existing one, provided it has the same number of qubits (parameterized, where the parameters will be adjusted during training).\n",
    "  - `ParamOracle`: A parameterized oracle for the circuit (parameterized).\n",
    "  - `torch.Tensor`: A tensor representing a fixed unitary matrix to apply to the circuit (non-parameterized, remains unchanged during training).\n",
    "  - `Tuple[torch.Tensor, List[int]]`: A tuple consisting of a tensor (the fixed unitary matrix) and a list of qubit indices to which the operation will apply (non-parameterized).\n",
    "\n",
    "### Example Usage\n"
   ]
  },
  {
   "cell_type": "markdown",
   "id": "2c08f037",
   "metadata": {},
   "source": [
    "Prepare the new_V in several ways."
   ]
  },
  {
   "cell_type": "code",
   "execution_count": null,
   "id": "24c3444a",
   "metadata": {},
   "outputs": [],
   "source": [
    "from quairkit.circuit import *\n",
    "from quairkit.database import *\n",
    "from quairkit.operator import *\n",
    "\n",
    "# Number of qubits in the circuit\n",
    "num_qubits_cir = num_aux_qubits + num_qubits_U\n",
    "\n",
    "# Circuit\n",
    "V0 = Circuit(num_qubits_cir)\n",
    "V0.rx()\n",
    "\n",
    "\n",
    "# ParamOracle\n",
    "def V_generator(param):\n",
    "    return rx(param[0]) @ u3(param[1:4]) @ h()\n",
    "\n",
    "V1 = ParamOracle(V_generator, num_acted_param=4)\n",
    "\n",
    "# torch.Tensor as a gate working on all the systems\n",
    "V2 = random_unitary(num_qubits_cir)  # Work on all the systems\n",
    "\n",
    "# torch.Tensor as a gate working on parts of the systems\n",
    "V3 = random_unitary(num_qubits_cir - 1)"
   ]
  },
  {
   "cell_type": "markdown",
   "id": "87e80b4b",
   "metadata": {},
   "source": [
    "Update the V circuit in place at a specified `index`. The `index` must satisfy the condition $0 \\leq \\text{index} < num_slots+1$, where `num_slots` is the number of slots in the quantum comb. This ensures that the specified index is within the valid range of the circuit list."
   ]
  },
  {
   "cell_type": "code",
   "execution_count": null,
   "id": "4036326d",
   "metadata": {},
   "outputs": [],
   "source": [
    "net.update_V_circuit(index=1, new_V=V0)\n",
    "# net.update_V_circuit(index=1, new_V=V1)\n",
    "# net.update_V_circuit(index=1, new_V=V2)\n",
    "# net.update_V_circuit(index=1, new_V=(V3, list(range(1, num_qubits_cir))))"
   ]
  },
  {
   "cell_type": "markdown",
   "id": "a873bd50",
   "metadata": {},
   "source": [
    "## 4. Training the Circuit <a id=\"training\"></a>\n",
    "\n",
    "The core of `PQCombNet` is its ability to train quantum circuits. The `train()` method runs the training process, optimizing the circuit parameters based on the provided dataset. \n",
    "\n",
    "During training, log information is not only printed to the console but is also saved to the file system. Logs are stored in the `data_directory_name` (`{name_task}_data`) folder under the filename `{name_task}_train_log.csv`, allowing for easy access and review of the training process details later.\n",
    "\n",
    "### Example Usage"
   ]
  },
  {
   "cell_type": "code",
   "execution_count": null,
   "id": "3dc5d493",
   "metadata": {},
   "outputs": [
    {
     "name": "stdout",
     "output_type": "stream",
     "text": [
      "[search_dag | choi | 42 | \u001b[90m0\t0.0108s\u001b[0m] num_qubits_U: 1, num_slots: 2, num_aux_qubits: 1, \u001b[93mLR: 5.00e-01\u001b[0m, \u001b[91mLoss: 0.73879212\u001b[0m, \u001b[92mFid: 0.26230755\u001b[0m\n",
      "[search_dag | choi | 42 | \u001b[90m40\t0.0100s\u001b[0m] num_qubits_U: 1, num_slots: 2, num_aux_qubits: 1, \u001b[93mLR: 5.00e-01\u001b[0m, \u001b[91mLoss: 0.49928927\u001b[0m, \u001b[92mFid: 0.49991816\u001b[0m\n",
      "[search_dag | choi | 42 | \u001b[90m80\t0.0110s\u001b[0m] num_qubits_U: 1, num_slots: 2, num_aux_qubits: 1, \u001b[93mLR: 5.00e-01\u001b[0m, \u001b[91mLoss: 0.49813539\u001b[0m, \u001b[92mFid: 0.50312698\u001b[0m\n",
      "[search_dag | choi | 42 | \u001b[90m120\t0.0110s\u001b[0m] num_qubits_U: 1, num_slots: 2, num_aux_qubits: 1, \u001b[93mLR: 5.00e-05\u001b[0m, \u001b[91mLoss: 0.49811590\u001b[0m, \u001b[92mFid: 0.50300652\u001b[0m\n",
      "[search_dag | choi | 42] Finished training with Fidelity: 0.50300652\n"
     ]
    }
   ],
   "source": [
    "net.train()"
   ]
  },
  {
   "cell_type": "markdown",
   "id": "b08f2a79",
   "metadata": {},
   "source": [
    "## 5. Extracting the Highest Fidelity Result <a id=\"extracting\"></a>\n",
    "\n",
    "Once the circuit is trained, you can use `extract_highest_fidelity()` to find and save the best-performing circuit based on fidelity.\n",
    "\n",
    "The function saves several output files:\n",
    "\n",
    "- A CSV file containing a pivot table showing the highest fidelity values across different configurations of `num_slots` and `num_aux_qubits`.\n",
    "- CSV files for different `num_qubits_U` values, storing fidelity results in corresponding directories.\n",
    "\n",
    "### Example Usage\n"
   ]
  },
  {
   "cell_type": "code",
   "execution_count": null,
   "id": "e057ec7c",
   "metadata": {},
   "outputs": [
    {
     "name": "stdout",
     "output_type": "stream",
     "text": [
      "Saved table for num_qubits_U = 1 to search_dag_data\\fidelity_tables\\fidelity_table_num_qubits_U_1.csv\n"
     ]
    }
   ],
   "source": [
    "net.extract_highest_fidelity()"
   ]
  },
  {
   "cell_type": "markdown",
   "id": "ccae5531",
   "metadata": {},
   "source": [
    "### File Saving\n",
    "\n",
    "- **Training Data**: If `is_save_data=True`, the training data will be saved in the directory `data_directory_name/V_circuit_lists/`. Each saved file includes details like the mode used, number of qubits, and fidelity.\n",
    "- **Logs**: Training logs are saved as CSV files named `{name_task}_train_log.csv` in the specified data directory.\n",
    "- **Fidelity Results**: After extracting the highest fidelity, results for each `num_qubits_U` are saved as CSV files with names like `fidelity_table_num_qubits_U_{num_qubits_U}.csv`.\n"
   ]
  },
  {
   "cell_type": "markdown",
   "id": "01695f97",
   "metadata": {},
   "source": [
    "## Conclusion <a id=\"conclusion\"></a>\n",
    "\n",
    "Throughout this tutorial, we have explored the capabilities and functionalities of the `PQCombNet` class for optimizing quantum circuits. We began by detailing how to initialize the class with various parameters tailored to specific quantum tasks. This setup allows for the flexible adaptation of `PQCombNet` to different quantum operations and transformations.\n",
    "\n",
    "Following initialization, we discussed how to update individual circuits within the quantum comb using the `update_V_circuit` method. This method provides the flexibility needed to modify quantum circuits dynamically based on evolving requirements during training.\n",
    "\n",
    "The core of `PQCombNet` is its training process, facilitated by the `train()` method, which optimizes quantum circuits based on provided datasets. Notably, the `extract_highest_fidelity` method plays a crucial role at the end of training by identifying and retrieving the circuit configuration that achieves the highest fidelity, ensuring the best possible performance.\n",
    "\n",
    "Logs and detailed training outputs are not only visible in real-time but are also systematically saved to CSV files, making the training process transparent and traceable. This meticulous documentation supports thorough analysis and fine-tuning of quantum circuits.\n",
    "\n",
    "The `PQCombNet` offers a robust framework for researchers and developers working in quantum computing, particularly those focused on circuit design and optimization.\n",
    "\n",
    "Future explorations can leverage the extensibility of `PQCombNet` to experiment with more complex quantum operations. The potential for further enhancements and its application in solving intricate quantum problems presents an exciting avenue for ongoing research and development.\n"
   ]
  },
  {
   "cell_type": "markdown",
   "id": "6f44aa19",
   "metadata": {},
   "source": [
    "---\n",
    "\n",
    "## References\n",
    "[1] Mo, Yin, et al. \"Parameterized quantum comb and simpler circuits for reversing unknown qubit-unitary operations.\" arXiv preprint arXiv:2403.03761 (2024).\n"
   ]
  },
  {
   "cell_type": "code",
   "execution_count": null,
   "id": "91fc15b9",
   "metadata": {},
   "outputs": [
    {
     "name": "stdout",
     "output_type": "stream",
     "text": [
      "\n",
      "---------VERSION---------\n",
      "quairkit: 0.1.0\n",
      "torch: 2.3.1+cpu\n",
      "numpy: 1.26.4\n",
      "scipy: 1.14.0\n",
      "matplotlib: 3.9.0\n",
      "---------SYSTEM---------\n",
      "Python version: 3.10.14\n",
      "OS: Windows\n",
      "OS version: 10.0.22621\n",
      "---------DEVICE---------\n",
      "CPU: AMD64 Family 25 Model 68 Stepping 1, AuthenticAMD\n"
     ]
    }
   ],
   "source": [
    "import quairkit as qkit\n",
    "\n",
    "qkit.print_info()"
   ]
  }
 ],
 "metadata": {
  "kernelspec": {
   "display_name": "quair",
   "language": "python",
   "name": "python3"
  },
  "language_info": {
   "codemirror_mode": {
    "name": "ipython",
    "version": 3
   },
   "file_extension": ".py",
   "mimetype": "text/x-python",
   "name": "python",
   "nbconvert_exporter": "python",
   "pygments_lexer": "ipython3",
   "version": "3.10.14"
  }
 },
 "nbformat": 4,
 "nbformat_minor": 5
}
