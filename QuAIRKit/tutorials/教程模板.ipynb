{
 "cells": [
  {
   "cell_type": "markdown",
   "metadata": {},
   "source": [
    "# Batch Computation in QuAIRKit\n",
    "\n",
    "整体教程介绍, 例如 In this tutorial blabla"
   ]
  },
  {
   "cell_type": "markdown",
   "metadata": {},
   "source": [
    "\n",
    "**Table of Contents**\n",
    "\n",
    "- [A](#A)\n",
    "  - [A B](#A-B) \n",
    "- [B](#B)\n",
    "- [References](#References)\n",
    "\n",
    "Intro 教程大致布局\n",
    "\n",
    "- 30%：（数学）背景介绍\n",
    "- 60%：主要功能介绍 & 案例\n",
    "- 10%: 其他功能\n",
    "\n",
    "技术复现 教程大致布局\n",
    "\n",
    "- 40%：背景介绍\n",
    "- 50%：复现代码 & 案例\n",
    "- 10%: 总结"
   ]
  },
  {
   "cell_type": "markdown",
   "metadata": {},
   "source": [
    "import QuAIRKit 库 统一用 *；不允许导入QuAIRKit.core；不允许导入没有使用的函数"
   ]
  },
  {
   "cell_type": "code",
   "execution_count": 1,
   "metadata": {},
   "outputs": [],
   "source": [
    "import torch\n",
    "import quairkit as qkit\n",
    "from quairkit import Circuit\n",
    "from quairkit.database import *\n",
    "from quairkit.qinfo import *\n",
    "\n",
    "qkit.set_dtype('complex128')"
   ]
  },
  {
   "cell_type": "markdown",
   "metadata": {},
   "source": [
    "## A\n",
    "\n",
    "每次代码出现前最好伴随文字说明，解释在做什么"
   ]
  },
  {
   "cell_type": "code",
   "execution_count": 2,
   "metadata": {},
   "outputs": [
    {
     "name": "stdout",
     "output_type": "stream",
     "text": [
      "每次 print 数据都需要伴随文字说明\n",
      "The x gate is\n",
      " tensor([[0.+0.j, 1.+0.j],\n",
      "        [1.+0.j, 0.+0.j]])\n"
     ]
    }
   ],
   "source": [
    "print('每次 print 数据都需要伴随文字说明')\n",
    "print('The x gate is\\n', x())"
   ]
  },
  {
   "cell_type": "markdown",
   "metadata": {},
   "source": [
    "### A B\n",
    "\n",
    "首次出现 QuAIRKit 的 class 或者 function 时，可以高亮显示，例如 `quairkit.Circuit`\n",
    "\n",
    "\n",
    "![图的 caption 写在这里](图例.jpg)"
   ]
  },
  {
   "cell_type": "markdown",
   "metadata": {},
   "source": [
    "Jupyter Notebook 里面的代码块采用 KaTeX 语法，参考 [API 文档](https://katex.org/docs/supported.html)\n",
    "\n",
    "Inline 公式：$a^2 + b^2 = c^2$\n",
    "\n",
    "整行公式（重要公式写成整行形式，其余尽量使用 inline 格式），需手动 tag\n",
    "$$\n",
    "a^2 + b^2 = c^2\n",
    "\\tag{1}\n",
    "$$"
   ]
  },
  {
   "cell_type": "markdown",
   "metadata": {},
   "source": [
    "## B\n",
    "\n",
    "含 batch 运算的代码需加文字说明，或者加上对应的 for 循环代码说明"
   ]
  },
  {
   "cell_type": "code",
   "execution_count": 3,
   "metadata": {},
   "outputs": [],
   "source": [
    "list_x = torch.rand(1000)\n",
    "cir = Circuit(1)\n",
    "cir.rx(param=list_x)\n",
    "list_trace = cir().trace()\n",
    "\n",
    "# this is equivalent to below code\n",
    "# list_trace = []\n",
    "# for _ in range(1000):\n",
    "#     cir = Circuit(1)\n",
    "#     cir.rx(param=torch.rand(1))\n",
    "#     list_trace.append(cir().trace())\n",
    "# list_trace = torch.stack(list_trace)"
   ]
  },
  {
   "cell_type": "markdown",
   "metadata": {},
   "source": [
    "---"
   ]
  },
  {
   "cell_type": "markdown",
   "metadata": {},
   "source": [
    "## References\n",
    "\n",
    "Citation 统一采用 google scholar 引用的第一个格式，也即 MLA 格式，例如：\n",
    "\n",
    "[1] Chen, Yu-Ao, et al. \"Quantum advantage in reversing unknown unitary evolutions.\" arXiv preprint arXiv:2403.04704 (2024)."
   ]
  },
  {
   "cell_type": "markdown",
   "metadata": {},
   "source": [
    "*Table: A reference of notation conventions in this tutorial.*\n",
    "\n",
    "| Symbol        | Variant          | Description                               |\n",
    "|:---------------:|:------------------:|-------------------------------------------|\n",
    "| 该教程使用的符号，例如 $X$ | 变体，例如 $\\sigma_x$ | 描述，例如泡利 X |\n",
    "|  |  |  |\n",
    "| 以下是常用符号（待更新）： |  |  |\n",
    "| $\\mathcal{N}_{A \\to B}$ | $\\mathcal{N}_{R, A \\to B}$ | a linear map mapping from $(R)A$ to $(R)B$ |\n",
    "| $\\lambda$    | $\\lambda_k$     | (the $k$-th) eigenvalue of a diagonalizable matrix     |\n",
    "| $\\tau$    | $\\tau_k$     | (the $k$-th) eigenphase of a unitary      |\n",
    "| $\\mathcal{H}$     | $\\mathcal{H}_A$      | a Hilbert space (of quantum system $A$)   |\n",
    "| $\\operatorname{tr}$     | $\\operatorname{tr}_A$      | (partial) trace (on subsystem $A$)        |\n",
    "| $ \\hat{H}$     |  $ \\hat{O} $       |      a Hamiltonian (observable) operator    |\n",
    "|$X$ | $\\sigma_x$| Pauli X|\n",
    "| $\\vert \\psi \\rangle$ | | pure state|\n",
    "|$\\langle \\psi \\vert \\phi \\rangle$ |  | inner product of two pure states|\n",
    "| $\\rho \\otimes \\sigma$ | | tensor product of two states|\n",
    "| $M_m$ |  | measurement operator corresponds to outcome $m$|\n",
    "\n"
   ]
  },
  {
   "cell_type": "code",
   "execution_count": 4,
   "metadata": {},
   "outputs": [
    {
     "name": "stdout",
     "output_type": "stream",
     "text": [
      "\n",
      "---------VERSION---------\n",
      "quairkit: 0.1.0\n",
      "torch: 2.3.1+cpu\n",
      "numpy: 1.26.0\n",
      "scipy: 1.14.0\n",
      "matplotlib: 3.9.0\n",
      "---------SYSTEM---------\n",
      "Python version: 3.10.14\n",
      "OS: Windows\n",
      "OS version: 10.0.26100\n"
     ]
    }
   ],
   "source": [
    "qkit.print_info()"
   ]
  },
  {
   "cell_type": "markdown",
   "metadata": {},
   "source": [
    "如果有第三方包的调用，也需在这里 print 出来版本"
   ]
  }
 ],
 "metadata": {
  "kernelspec": {
   "display_name": "quair",
   "language": "python",
   "name": "python3"
  },
  "language_info": {
   "codemirror_mode": {
    "name": "ipython",
    "version": 3
   },
   "file_extension": ".py",
   "mimetype": "text/x-python",
   "name": "python",
   "nbconvert_exporter": "python",
   "pygments_lexer": "ipython3",
   "version": "3.10.14"
  }
 },
 "nbformat": 4,
 "nbformat_minor": 2
}
