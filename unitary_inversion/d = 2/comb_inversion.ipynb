{
 "cells": [
  {
   "cell_type": "code",
   "execution_count": null,
   "metadata": {},
   "outputs": [],
   "source": [
    "from quairkit.application import PQCombNet\n",
    "from quairkit.qinfo import dagger\n",
    "import quairkit\n",
    "\n",
    "quairkit.set_dtype(\"complex128\")"
   ]
  },
  {
   "cell_type": "code",
   "execution_count": null,
   "metadata": {},
   "outputs": [],
   "source": [
    "# Define the range for the number of slots\n",
    "num_slots_list = range(1, 6)\n",
    "\n",
    "# Define the range for ancillary qubits\n",
    "num_qubits_ancilla_list = range(4)"
   ]
  },
  {
   "cell_type": "code",
   "execution_count": null,
   "metadata": {},
   "outputs": [],
   "source": [
    "# Training loop over different configurations of ancillary qubits and channel slots\n",
    "for ancilla in num_qubits_ancilla_list:\n",
    "    for num_slots in num_slots_list:\n",
    "        net = PQCombNet(\n",
    "            target_function=dagger,\n",
    "            slot_dim=2,\n",
    "            train_mode=\"comb\",\n",
    "            num_slots=num_slots,\n",
    "            ancilla=ancilla,\n",
    "            train_unitary_info=10000,\n",
    "        )\n",
    "        net.train(is_save_data=True)"
   ]
  },
  {
   "cell_type": "code",
   "execution_count": null,
   "metadata": {},
   "outputs": [],
   "source": [
    "# Extract the highest fidelity from the log information\n",
    "net.extract_highest_fidelity()"
   ]
  }
 ],
 "metadata": {
  "kernelspec": {
   "display_name": "qk",
   "language": "python",
   "name": "python3"
  },
  "language_info": {
   "codemirror_mode": {
    "name": "ipython",
    "version": 3
   },
   "file_extension": ".py",
   "mimetype": "text/x-python",
   "name": "python",
   "nbconvert_exporter": "python",
   "pygments_lexer": "ipython3",
   "version": "3.10.14"
  }
 },
 "nbformat": 4,
 "nbformat_minor": 2
}
