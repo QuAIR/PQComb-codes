{
 "cells": [
  {
   "cell_type": "markdown",
   "metadata": {},
   "source": [
    "**Derivation of the training ansatz for the 4-call qubit-unitary inversion protocol**"
   ]
  },
  {
   "cell_type": "code",
   "execution_count": null,
   "metadata": {},
   "outputs": [],
   "source": [
    "import torch\n",
    "from torch.nn import ModuleList\n",
    "\n",
    "import quairkit\n",
    "from quairkit.application import PQCombNet\n",
    "from quairkit.circuit import Circuit\n",
    "from quairkit.database import zero_state\n",
    "from quairkit.qinfo import dagger\n",
    "\n",
    "quairkit.set_dtype(\"complex128\")"
   ]
  },
  {
   "cell_type": "markdown",
   "metadata": {},
   "source": [
    "Set up the basic parameters of the training ansatz."
   ]
  },
  {
   "cell_type": "code",
   "execution_count": null,
   "metadata": {},
   "outputs": [],
   "source": [
    "num_slots, ancilla_qubits = 4, 3\n",
    "num_qubits = ancilla_qubits + 1\n",
    "num_V = num_slots + 1\n",
    "slot_dim = 2"
   ]
  },
  {
   "cell_type": "markdown",
   "metadata": {},
   "source": [
    "Initial training ansatz that found 0.99 training fidelity, where each comb tooth is a 16-dimensional universal unitary tunable by 255 parameters."
   ]
  },
  {
   "cell_type": "code",
   "execution_count": null,
   "metadata": {},
   "outputs": [],
   "source": [
    "net = PQCombNet(\n",
    "    target_function=dagger,\n",
    "    num_slots=num_slots,\n",
    "    ancilla=ancilla_qubits,\n",
    "    slot_dim=slot_dim,\n",
    "    train_mode=\"process\",\n",
    ")\n",
    "\n",
    "net.plot()\n"
   ]
  },
  {
   "cell_type": "code",
   "execution_count": null,
   "metadata": {},
   "outputs": [],
   "source": [
    "net.train()"
   ]
  },
  {
   "cell_type": "markdown",
   "metadata": {},
   "source": [
    "The ansatz further improved by guessing all entangled gates between ancilla qubits and the main system to be controlled universal qubit-gates $\\textrm{U}3$."
   ]
  },
  {
   "cell_type": "code",
   "execution_count": null,
   "metadata": {},
   "outputs": [],
   "source": [
    "V_circuit_list_b = ModuleList()\n",
    "for i in range(num_V):\n",
    "    V_circuit = Circuit(num_qubits)\n",
    "    if i > 0:\n",
    "        V_circuit.cu([0, 3])\n",
    "        V_circuit.cu([1, 3])\n",
    "        V_circuit.cu([2, 3])\n",
    "    V_circuit.universal_qudits(list(range(ancilla_qubits)))\n",
    "    V_circuit.cu([2, 3])\n",
    "    V_circuit.cu([1, 3])\n",
    "    V_circuit.cu([0, 3])\n",
    "    V_circuit_list_b.append(V_circuit)\n",
    "net.V_circuit_list = V_circuit_list_b\n",
    "net.plot()\n",
    "net.train()"
   ]
  },
  {
   "cell_type": "markdown",
   "metadata": {},
   "source": [
    "The ansatz further improved by guessing most of universal qubit-gates to be Pauli operators, and the first universal three-qubit gates to be Hadamard gates. The best training fidelity can approach 0.999 at this stage."
   ]
  },
  {
   "cell_type": "code",
   "execution_count": null,
   "metadata": {},
   "outputs": [],
   "source": [
    "V_circuit_list_c = ModuleList()\n",
    "for i in range(num_V):\n",
    "    V_circuit = Circuit(num_qubits)\n",
    "    if i == 0:\n",
    "        V_circuit.h(list(range(ancilla_qubits)))\n",
    "    else:\n",
    "        V_circuit.cz([0, 3])\n",
    "        V_circuit.cy([1, 3])\n",
    "        V_circuit.cx([2, 3])\n",
    "        V_circuit.universal_qudits(list(range(ancilla_qubits)))\n",
    "\n",
    "    if i < num_slots:\n",
    "        V_circuit.cx([2, 3])\n",
    "        V_circuit.cy([1, 3])\n",
    "        V_circuit.cz([0, 3])\n",
    "    else:\n",
    "        V_circuit.cu([2, 3])\n",
    "        V_circuit.cu([1, 3])\n",
    "        V_circuit.cu([0, 3])\n",
    "    V_circuit_list_c.append(V_circuit)\n",
    "net.V_circuit_list = V_circuit_list_c\n",
    "net.plot()\n",
    "net.train()"
   ]
  },
  {
   "cell_type": "markdown",
   "metadata": {},
   "source": [
    "The ansatz further improved by guessing low coherence of the first ancilla qubit, which needs to be clean at the end: the amplitude on $\\ket{0}$ is now proportional to the training fidelity."
   ]
  },
  {
   "cell_type": "code",
   "execution_count": null,
   "metadata": {},
   "outputs": [],
   "source": [
    "V_circuit_list_d = ModuleList()\n",
    "for i in range(num_V):\n",
    "    V_circuit = Circuit(num_qubits)\n",
    "    if i == 0:\n",
    "        V_circuit.h(list(range(1, ancilla_qubits)))\n",
    "    else:\n",
    "        V_circuit.cy([1, 3])\n",
    "        V_circuit.cx([2, 3])\n",
    "        V_circuit.universal_qudits(list(range(ancilla_qubits)))\n",
    "\n",
    "    if i < num_slots:\n",
    "        V_circuit.cx([2, 3])\n",
    "        V_circuit.cy([1, 3])\n",
    "    else:\n",
    "        V_circuit.cy([2, 3])\n",
    "        V_circuit.cx([1, 3])\n",
    "    V_circuit_list_d.append(V_circuit)\n",
    "net.V_circuit_list = V_circuit_list_d\n",
    "net.plot()\n",
    "net.train(\n",
    "    projector=zero_state(1).density_matrix.kron(torch.eye(2 ** (ancilla_qubits - 1)))\n",
    ")"
   ]
  }
 ],
 "metadata": {
  "kernelspec": {
   "display_name": "quair",
   "language": "python",
   "name": "python3"
  },
  "language_info": {
   "codemirror_mode": {
    "name": "ipython",
    "version": 3
   },
   "file_extension": ".py",
   "mimetype": "text/x-python",
   "name": "python",
   "nbconvert_exporter": "python",
   "pygments_lexer": "ipython3",
   "version": "3.10.14"
  }
 },
 "nbformat": 4,
 "nbformat_minor": 2
}
