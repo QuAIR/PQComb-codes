{
 "cells": [
  {
   "cell_type": "code",
   "execution_count": null,
   "metadata": {},
   "outputs": [],
   "source": [
    "import time\n",
    "\n",
    "import numpy as np\n",
    "import torch\n",
    "\n",
    "import quairkit as qkit\n",
    "from quairkit import Circuit, to_state\n",
    "from quairkit.database import *\n",
    "from quairkit.qinfo import *\n",
    "\n",
    "qkit.set_dtype(\"complex128\")"
   ]
  },
  {
   "cell_type": "markdown",
   "metadata": {},
   "source": [
    "Set up the basic parameters of the training ansatz."
   ]
  },
  {
   "cell_type": "code",
   "execution_count": 35,
   "metadata": {},
   "outputs": [],
   "source": [
    "m, na = 4, 3\n",
    "num_V = m + 1\n",
    "num_qubits = na + 2 * num_V\n",
    "dim = 2 ** num_qubits\n",
    "\n",
    "num_test = 10000"
   ]
  },
  {
   "cell_type": "markdown",
   "metadata": {},
   "source": [
    "Set up the parameters of the training process."
   ]
  },
  {
   "cell_type": "code",
   "execution_count": 36,
   "metadata": {},
   "outputs": [],
   "source": [
    "LR = 0.1\n",
    "NUM_ITR = 2000"
   ]
  },
  {
   "cell_type": "markdown",
   "metadata": {},
   "source": [
    "Calculate the performance operator for calculating the loss function."
   ]
  },
  {
   "cell_type": "code",
   "execution_count": 37,
   "metadata": {},
   "outputs": [],
   "source": [
    "test_dataset = [haar_unitary(2) for _ in range(num_test)]\n",
    "\n",
    "omega = 0\n",
    "for u in test_dataset:\n",
    "    u_dag_choi = channel_repr_convert(dagger(u), source='kraus', target='choi')\n",
    "    u_conj_choi = channel_repr_convert(u.conj(), source='kraus', target='choi')\n",
    "    \n",
    "    if m == 1:\n",
    "        omega += torch.kron(u_dag_choi, u_conj_choi)\n",
    "    else:\n",
    "        omega += torch.kron(u_dag_choi, NKron(*[u_conj_choi for _ in range(m)]))\n",
    "omega /= num_test\n",
    "\n",
    "# find the permutation\n",
    "orig_perm = [0, 2 * num_V - 1] + sum(([2 * j - 1, 2 * j] for j in range(1, num_V)), [])\n",
    "targ_perm = list(range(2 * num_V))\n",
    "perm_map = {val: index for index, val in enumerate(orig_perm)}\n",
    "perm_map = [perm_map[val] for val in targ_perm]\n",
    "\n",
    "# permute omega to match system\n",
    "omega = permute_systems(omega, perm_map, [2, 2] * num_V)"
   ]
  },
  {
   "cell_type": "markdown",
   "metadata": {},
   "source": [
    "Define the input state and projector."
   ]
  },
  {
   "cell_type": "code",
   "execution_count": null,
   "metadata": {},
   "outputs": [],
   "source": [
    "if na > 0:\n",
    "    input_state = zero_state(na).ket\n",
    "    for _ in range(num_V):\n",
    "        input_state = torch.kron(input_state, bell_state(2).ket)\n",
    "else:\n",
    "    input_state = bell_state(2).ket\n",
    "    for _ in range(num_V - 1):\n",
    "        input_state = torch.kron(input_state, bell_state(2).ket)\n",
    "input_state = to_state(input_state)\n",
    "\n",
    "proj_zero = zero_state(1)\n",
    "proj_zero = torch.kron(proj_zero.bra, torch.eye(2 ** (2 * num_V + na - 1)))"
   ]
  },
  {
   "cell_type": "markdown",
   "metadata": {},
   "source": [
    "Define the function for evaluating the circuit."
   ]
  },
  {
   "cell_type": "code",
   "execution_count": null,
   "metadata": {},
   "outputs": [],
   "source": [
    "def average_fidelity(circuit: Circuit) -> torch.Tensor:\n",
    "    r\"\"\"Compute average fidelity of the input comb\n",
    "    \"\"\"\n",
    "    output_state = circuit(input_state)\n",
    "    \n",
    "    output_state = proj_zero @ output_state.ket\n",
    "    choi_comb = partial_trace(output_state @ output_state.conj().T,\n",
    "                              0, [2 ** (na - 1), 2 ** (2 * num_V)]) * (2 ** num_V)\n",
    "    return torch.trace(choi_comb @ omega).real / 4"
   ]
  },
  {
   "cell_type": "markdown",
   "metadata": {},
   "source": [
    "Create the ansatz to be trained."
   ]
  },
  {
   "cell_type": "code",
   "execution_count": null,
   "metadata": {},
   "outputs": [],
   "source": [
    "list_applied_idx = [(list(range(na)) + [na + 2 * j + 1]) for j in range(num_V)]\n",
    "\n",
    "def create_circuit(param_uni1: torch.Tensor, param_uni2: torch.Tensor, param_uni3: torch.Tensor) -> Circuit:\n",
    "    circuit = Circuit(num_qubits)\n",
    "    G = universal3(param_uni3)\n",
    "    \n",
    "    for idx, qubit_idx in enumerate(list_applied_idx):\n",
    "        if idx == 0:\n",
    "            circuit.h([qubit_idx[1], qubit_idx[2]])\n",
    "            circuit.cx([qubit_idx[2], qubit_idx[3]])\n",
    "            circuit.cy([qubit_idx[1], qubit_idx[3]])\n",
    "        \n",
    "        elif idx == 1:\n",
    "            circuit.cy([qubit_idx[1], qubit_idx[3]])\n",
    "            circuit.cx([qubit_idx[2], qubit_idx[3]])\n",
    "            \n",
    "            circuit.oracle(G, system_idx=qubit_idx[:-1], latex_name=r'$G := \\textrm{Uni}_8$')\n",
    "            circuit.u3(qubit_idx[0], param=param_uni1[0])\n",
    "            \n",
    "            circuit.cx([qubit_idx[2], qubit_idx[3]])\n",
    "            circuit.cy([qubit_idx[1], qubit_idx[3]])\n",
    "        \n",
    "        elif idx == 2:\n",
    "            circuit.cy([qubit_idx[1], qubit_idx[3]])\n",
    "            circuit.cx([qubit_idx[2], qubit_idx[3]])\n",
    "            \n",
    "            circuit.oracle(dagger(G), system_idx=qubit_idx[:-1], latex_name=r'$G^\\dagger$')\n",
    "            \n",
    "            circuit.cx([qubit_idx[2], qubit_idx[3]])\n",
    "            circuit.cy([qubit_idx[1], qubit_idx[3]])\n",
    "        \n",
    "        elif idx == 3:\n",
    "            circuit.cy([qubit_idx[1], qubit_idx[3]])\n",
    "            circuit.cx([qubit_idx[2], qubit_idx[3]])\n",
    "            \n",
    "            circuit.universal_two_qubits([qubit_idx[1], qubit_idx[2]], param=param_uni2[0])\n",
    "            circuit.oracle(G, system_idx=qubit_idx[:-1], latex_name=r'$G$')\n",
    "            circuit.u3(qubit_idx[0], param=param_uni1[1])\n",
    "            \n",
    "            circuit.cx([qubit_idx[2], qubit_idx[3]])\n",
    "            circuit.cy([qubit_idx[1], qubit_idx[3]])\n",
    "            \n",
    "        elif idx == 4:\n",
    "            circuit.cy([qubit_idx[1], qubit_idx[3]])\n",
    "            circuit.cx([qubit_idx[2], qubit_idx[3]])\n",
    "            \n",
    "            circuit.oracle(dagger(G), system_idx=qubit_idx[:-1], latex_name=r'$G^\\dagger$')\n",
    "            circuit.universal_two_qubits([qubit_idx[1], qubit_idx[2]], param=param_uni2[1])\n",
    "            \n",
    "            circuit.cy([qubit_idx[2], qubit_idx[3]])\n",
    "            circuit.cx([qubit_idx[1], qubit_idx[3]])\n",
    "            \n",
    "    return circuit\n",
    "            \n",
    "\n",
    "class TrainAnsatz(torch.nn.Module):\n",
    "    def __init__(self) -> None:\n",
    "        super().__init__()\n",
    "        self.param_uni1 = torch.nn.Parameter(torch.rand(2, 3))\n",
    "        self.param_uni2 = torch.nn.Parameter(torch.rand(2, 15))\n",
    "        self.param_uni3 = torch.nn.Parameter(torch.rand(81))\n",
    "        \n",
    "    def forward(self) -> Circuit:\n",
    "        return create_circuit(self.param_uni1, self.param_uni2, self.param_uni3)"
   ]
  },
  {
   "cell_type": "code",
   "execution_count": 40,
   "metadata": {},
   "outputs": [
    {
     "data": {
      "image/png": "[encoded data removed]",
      "text/plain": [
       "<Figure size 1334x715 with 1 Axes>"
      ]
     },
     "metadata": {},
     "output_type": "display_data"
    }
   ],
   "source": [
    "net = TrainAnsatz()\n",
    "net().plot()"
   ]
  },
  {
   "cell_type": "markdown",
   "metadata": {},
   "source": [
    "Train the ansatz."
   ]
  },
  {
   "cell_type": "code",
   "execution_count": 41,
   "metadata": {},
   "outputs": [
    {
     "name": "stdout",
     "output_type": "stream",
     "text": [
      "iter: 0, fidelity: 0.12564418, avg_time: 0.8695s\n",
      "iter: 40, fidelity: 0.81331318, avg_time: 0.6232s\n",
      "iter: 80, fidelity: 0.96547562, avg_time: 0.6590s\n",
      "iter: 120, fidelity: 0.98939899, avg_time: 0.6525s\n",
      "iter: 160, fidelity: 0.99452925, avg_time: 0.6904s\n",
      "iter: 200, fidelity: 0.99789853, avg_time: 0.6448s\n",
      "iter: 240, fidelity: 0.99936347, avg_time: 0.7210s\n",
      "iter: 280, fidelity: 0.99978036, avg_time: 0.7366s\n",
      "iter: 320, fidelity: 0.99770812, avg_time: 0.7297s\n",
      "iter: 360, fidelity: 0.99986790, avg_time: 0.7314s\n",
      "iter: 400, fidelity: 0.99989205, avg_time: 0.7423s\n",
      "iter: 440, fidelity: 0.99989854, avg_time: 0.7495s\n",
      "iter: 480, fidelity: 0.99990401, avg_time: 0.7551s\n",
      "iter: 520, fidelity: 0.99990906, avg_time: 0.7529s\n",
      "iter: 560, fidelity: 0.99991383, avg_time: 0.7611s\n",
      "iter: 600, fidelity: 0.99991838, avg_time: 0.8000s\n",
      "iter: 640, fidelity: 0.99992275, avg_time: 0.7751s\n",
      "iter: 680, fidelity: 0.99992694, avg_time: 0.7712s\n",
      "iter: 720, fidelity: 0.99993095, avg_time: 0.7459s\n",
      "iter: 760, fidelity: 0.99993479, avg_time: 0.7418s\n",
      "iter: 800, fidelity: 0.99993846, avg_time: 0.7446s\n",
      "iter: 840, fidelity: 0.99994196, avg_time: 0.7946s\n",
      "iter: 880, fidelity: 0.99994530, avg_time: 0.8354s\n",
      "iter: 920, fidelity: 0.99994847, avg_time: 0.7579s\n",
      "iter: 960, fidelity: 0.99995149, avg_time: 0.7791s\n",
      "iter: 1000, fidelity: 0.99995436, avg_time: 0.8171s\n",
      "iter: 1040, fidelity: 0.99995708, avg_time: 0.7520s\n",
      "iter: 1080, fidelity: 0.99995966, avg_time: 0.7458s\n",
      "iter: 1120, fidelity: 0.99996211, avg_time: 0.7658s\n",
      "iter: 1160, fidelity: 0.99996443, avg_time: 0.8120s\n",
      "iter: 1200, fidelity: 0.99996662, avg_time: 0.8332s\n",
      "iter: 1240, fidelity: 0.99996871, avg_time: 0.8117s\n",
      "iter: 1280, fidelity: 0.99997068, avg_time: 0.8648s\n",
      "iter: 1320, fidelity: 0.99997254, avg_time: 0.8304s\n",
      "iter: 1360, fidelity: 0.99997431, avg_time: 0.8163s\n",
      "iter: 1400, fidelity: 0.99997598, avg_time: 0.8236s\n",
      "iter: 1440, fidelity: 0.99997756, avg_time: 0.8321s\n",
      "iter: 1480, fidelity: 0.99997905, avg_time: 0.8338s\n",
      "iter: 1520, fidelity: 0.99998046, avg_time: 0.8420s\n",
      "iter: 1560, fidelity: 0.99998179, avg_time: 0.8240s\n",
      "iter: 1600, fidelity: 0.99998305, avg_time: 0.8189s\n",
      "iter: 1640, fidelity: 0.99998424, avg_time: 0.8332s\n",
      "iter: 1680, fidelity: 0.99998535, avg_time: 0.8255s\n",
      "iter: 1720, fidelity: 0.99998641, avg_time: 0.7996s\n",
      "iter: 1760, fidelity: 0.99998740, avg_time: 0.8290s\n",
      "iter: 1800, fidelity: 0.99998833, avg_time: 0.8161s\n",
      "iter: 1840, fidelity: 0.99998920, avg_time: 0.8024s\n",
      "iter: 1880, fidelity: 0.99999002, avg_time: 0.7833s\n",
      "iter: 1920, fidelity: 0.99999079, avg_time: 0.8129s\n",
      "iter: 1960, fidelity: 0.99999151, avg_time: 0.8191s\n",
      "iter: 1999, fidelity: 0.99999216, avg_time: 0.8016s\n"
     ]
    }
   ],
   "source": [
    "loss_list, time_list = [], []\n",
    "\n",
    "opt = torch.optim.Adam(lr=LR, params=list(net.parameters()))\n",
    "scheduler = torch.optim.lr_scheduler.ReduceLROnPlateau(opt, 'min', verbose=True, factor=0.5)\n",
    "\n",
    "for itr in range(NUM_ITR):\n",
    "    start_time = time.time()\n",
    "    \n",
    "    opt.zero_grad()\n",
    "    loss = 1 - average_fidelity(net())\n",
    "    loss.backward()\n",
    "    opt.step()\n",
    "    scheduler.step(loss)\n",
    "\n",
    "    loss = loss.item()\n",
    "    loss_list.append(loss)\n",
    "    time_list.append(time.time() - start_time)\n",
    "    \n",
    "    if itr % 40 == 0 or itr == NUM_ITR - 1 or loss < 1e-6:\n",
    "        print(f\"iter: {itr}, fidelity: {1 - loss:.8f}, avg_time: {np.mean(time_list):.4f}s\")\n",
    "        time_list = []\n",
    "        \n",
    "    if loss < 1e-6:\n",
    "        break"
   ]
  }
 ],
 "metadata": {
  "kernelspec": {
   "display_name": "quair",
   "language": "python",
   "name": "python3"
  },
  "language_info": {
   "codemirror_mode": {
    "name": "ipython",
    "version": 3
   },
   "file_extension": ".py",
   "mimetype": "text/x-python",
   "name": "python",
   "nbconvert_exporter": "python",
   "pygments_lexer": "ipython3",
   "version": "3.10.14"
  }
 },
 "nbformat": 4,
 "nbformat_minor": 2
}
