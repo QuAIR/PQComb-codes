{
 "cells": [
  {
   "cell_type": "code",
   "execution_count": 1,
   "metadata": {},
   "outputs": [],
   "source": [
    "import quairkit as qkit\n",
    "from quairkit import Circuit\n",
    "from quairkit.qinfo import *\n",
    "from quairkit.database import *\n",
    "import numpy as np\n",
    "import torch\n",
    "\n",
    "qkit.set_dtype('complex128')"
   ]
  },
  {
   "cell_type": "markdown",
   "metadata": {},
   "source": [
    "## Generate 4-call protocol in Theorem 1"
   ]
  },
  {
   "cell_type": "markdown",
   "metadata": {},
   "source": [
    "Generate gates on the ancilla system"
   ]
  },
  {
   "cell_type": "code",
   "execution_count": 2,
   "metadata": {},
   "outputs": [],
   "source": [
    "o_nz = torch.tensor([[-1, 0, 0, 0],\n",
    "                     [0, 1, 0, 0],\n",
    "                     [0, 0, 1, 0],\n",
    "                     [0, 0, 0, 1]], dtype=torch.complex128)\n",
    "\n",
    "ft3 = torch.tensor([[0, 1, 1, 1],\n",
    "                    [1, 0, 1, -1],\n",
    "                    [1, -1, 0, 1],\n",
    "                    [1, 1, -1, 0]], dtype=torch.complex128) / np.sqrt(3)\n",
    "\n",
    "proj_zero = torch.kron(zero_state(1).bra, torch.eye(2 ** 3))"
   ]
  },
  {
   "cell_type": "code",
   "execution_count": 3,
   "metadata": {},
   "outputs": [
    {
     "data": {
      "image/png": "[encoded data removed]",
      "text/plain": [
       "<Figure size 324x165 with 1 Axes>"
      ]
     },
     "metadata": {},
     "output_type": "display_data"
    }
   ],
   "source": [
    "cir = Circuit(3)\n",
    "cir.h([1, 2])\n",
    "cir.oracle(o_nz, [1, 2], latex_name=r'$CZ$')\n",
    "cir.h([1, 2])\n",
    "\n",
    "cir.x([1, 2])\n",
    "cir.ccx([2, 1, 0])\n",
    "cir.x([1, 2])\n",
    "\n",
    "cir.control_oracle(ft3, qubits_idx=[0, 1, 2], latex_name=r'$ft_3$')\n",
    "cir.plot()\n",
    "\n",
    "G2 = cir.unitary_matrix()\n",
    "    "
   ]
  },
  {
   "cell_type": "markdown",
   "metadata": {},
   "source": [
    "Construct circuit, where $U_\\textrm{in}$ is randomly generated"
   ]
  },
  {
   "cell_type": "code",
   "execution_count": 4,
   "metadata": {},
   "outputs": [],
   "source": [
    "Uin = random_unitary(1) * np.exp(1j * np.random.rand())"
   ]
  },
  {
   "cell_type": "code",
   "execution_count": 5,
   "metadata": {},
   "outputs": [],
   "source": [
    "cir = Circuit(4)\n",
    "\n",
    "cir.h([1, 2])\n",
    "\n",
    "for i in range(4):\n",
    "    cir.cx([2, 3])\n",
    "    cir.cy([1, 3])\n",
    "    cir.oracle(Uin, [3], latex_name=r'$U_{\\text{in}}$')\n",
    "    cir.cy([1, 3])\n",
    "    cir.cx([2, 3])\n",
    "    \n",
    "    if i == 2:\n",
    "        cir.oracle(o_nz, [1, 2], latex_name=r'$CZ$')\n",
    "    \n",
    "    if i in [0, 2]:\n",
    "        cir.oracle(G2, qubits_idx=[0, 1, 2], latex_name=r'$G_2$')\n",
    "        cir.x([0])\n",
    "        \n",
    "    elif i in [1, 3]:\n",
    "        cir.oracle(G2.conj().T, qubits_idx=[0, 1, 2], latex_name=r'$G_2^\\dagger$')\n",
    "\n",
    "cir.h([1, 2])\n",
    "cir.cy([2, 3])\n",
    "cir.cx([1, 3])"
   ]
  },
  {
   "cell_type": "code",
   "execution_count": 6,
   "metadata": {},
   "outputs": [
    {
     "data": {
      "image/png": "[encoded data removed]",
      "text/plain": [
       "<Figure size 1264x220 with 1 Axes>"
      ]
     },
     "metadata": {},
     "output_type": "display_data"
    }
   ],
   "source": [
    "cir.plot()"
   ]
  },
  {
   "cell_type": "markdown",
   "metadata": {},
   "source": [
    "## Verify\n",
    "\n",
    "test this circuit by randomly input a qubit state $\\rho$."
   ]
  },
  {
   "cell_type": "code",
   "execution_count": null,
   "metadata": {},
   "outputs": [
    {
     "name": "stdout",
     "output_type": "stream",
     "text": [
      "The probability of the output state of the first qubit being |0> is (1.000000000000004-4.85722573273506e-17j)\n"
     ]
    },
    {
     "data": {
      "text/plain": [
       "1.0000000044179023"
      ]
     },
     "execution_count": 7,
     "metadata": {},
     "output_type": "execute_result"
    }
   ],
   "source": [
    "rho = random_state(1)\n",
    "input_state = qkit.to_state(torch.kron(zero_state(3).density_matrix, rho.density_matrix))\n",
    "output_state = cir(input_state)\n",
    "\n",
    "output_state = proj_zero @ output_state.density_matrix @ dagger(proj_zero)\n",
    "print('The probability of the output state of the first qubit being |0> is', output_state.trace().item())\n",
    "traced_state = partial_trace(output_state, [0, 1])\n",
    "\n",
    "state_fidelity(dagger(Uin) @ rho.density_matrix @ Uin, traced_state).item()"
   ]
  }
 ],
 "metadata": {
  "kernelspec": {
   "display_name": "quair",
   "language": "python",
   "name": "python3"
  },
  "language_info": {
   "codemirror_mode": {
    "name": "ipython",
    "version": 3
   },
   "file_extension": ".py",
   "mimetype": "text/x-python",
   "name": "python",
   "nbconvert_exporter": "python",
   "pygments_lexer": "ipython3",
   "version": "3.10.14"
  }
 },
 "nbformat": 4,
 "nbformat_minor": 2
}
