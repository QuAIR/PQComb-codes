{
 "cells": [
  {
   "cell_type": "code",
   "execution_count": 1,
   "metadata": {},
   "outputs": [],
   "source": [
    "from typing import List\n",
    "\n",
    "import quairkit as qkit\n",
    "import torch\n",
    "from quairkit import *\n",
    "from quairkit.database import *\n",
    "from quairkit.qinfo import *\n",
    "\n",
    "qkit.set_dtype(\"complex128\")"
   ]
  },
  {
   "cell_type": "code",
   "execution_count": 2,
   "metadata": {},
   "outputs": [],
   "source": [
    "target_func = dagger\n",
    "ancilla_dim = 27\n",
    "slot_dim = 3"
   ]
  },
  {
   "cell_type": "code",
   "execution_count": 3,
   "metadata": {},
   "outputs": [],
   "source": [
    "V_unitary_list: List[Circuit] = torch.load(\"V_unitary_matrix_inversion_d=3.pt\", weights_only=False)"
   ]
  },
  {
   "cell_type": "code",
   "execution_count": 4,
   "metadata": {},
   "outputs": [],
   "source": [
    "unitary = random_unitary(num_systems=1, system_dim=slot_dim)\n",
    "psi_in = random_state(num_systems=1, system_dim=slot_dim)"
   ]
  },
  {
   "cell_type": "code",
   "execution_count": 5,
   "metadata": {},
   "outputs": [
    {
     "data": {
      "image/png": "[encoded data removed]",
      "text/plain": [
       "<Figure size 1284x110 with 1 Axes>"
      ]
     },
     "metadata": {},
     "output_type": "display_data"
    }
   ],
   "source": [
    "cir = Circuit(system_dim=[ancilla_dim, slot_dim])\n",
    "for index, V in enumerate(V_unitary_list):\n",
    "    cir.oracle(V, system_idx=[0, 1], latex_name=f\"$\\\\mathcal{{V}}_{{{index}}}$\")\n",
    "    if index < len(V_unitary_list) - 1:\n",
    "        cir.oracle(unitary, system_idx=1, latex_name=\"$U$\")\n",
    "cir.plot()"
   ]
  },
  {
   "cell_type": "code",
   "execution_count": 6,
   "metadata": {},
   "outputs": [],
   "source": [
    "input_state = qkit.to_state(\n",
    "    zero_state(num_systems=1, system_dim=ancilla_dim).density_matrix.kron(\n",
    "        psi_in.density_matrix\n",
    "    ),\n",
    "    system_dim=[ancilla_dim, slot_dim],\n",
    ")\n",
    "actual_psi_out = cir(input_state).trace([0])\n",
    "expect_psi_out = psi_in.evolve(target_func(unitary))"
   ]
  },
  {
   "cell_type": "code",
   "execution_count": 7,
   "metadata": {},
   "outputs": [
    {
     "data": {
      "text/plain": [
       "0.9978870350288296"
      ]
     },
     "execution_count": 7,
     "metadata": {},
     "output_type": "execute_result"
    }
   ],
   "source": [
    "fidelity = state_fidelity(actual_psi_out, expect_psi_out)\n",
    "fidelity.item()"
   ]
  },
  {
   "cell_type": "code",
   "execution_count": 8,
   "metadata": {},
   "outputs": [
    {
     "name": "stdout",
     "output_type": "stream",
     "text": [
      "\n",
      "---------VERSION---------\n",
      "quairkit: 0.3.0\n",
      "torch: 2.5.1+cpu\n",
      "numpy: 1.26.0\n",
      "scipy: 1.14.1\n",
      "matplotlib: 3.10.0\n",
      "---------SYSTEM---------\n",
      "Python version: 3.10.16\n",
      "OS: Windows\n",
      "OS version: 10.0.26100\n",
      "---------DEVICE---------\n",
      "CPU: ARMv8 (64-bit) Family 8 Model 1 Revision 201, Qualcomm Technologies Inc\n"
     ]
    }
   ],
   "source": [
    "qkit.print_info()"
   ]
  }
 ],
 "metadata": {
  "kernelspec": {
   "display_name": "quair_test",
   "language": "python",
   "name": "python3"
  },
  "language_info": {
   "codemirror_mode": {
    "name": "ipython",
    "version": 3
   },
   "file_extension": ".py",
   "mimetype": "text/x-python",
   "name": "python",
   "nbconvert_exporter": "python",
   "pygments_lexer": "ipython3",
   "version": "3.10.16"
  }
 },
 "nbformat": 4,
 "nbformat_minor": 2
}
