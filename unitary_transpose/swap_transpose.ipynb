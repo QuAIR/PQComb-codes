{
 "cells": [
  {
   "cell_type": "code",
   "execution_count": null,
   "metadata": {},
   "outputs": [],
   "source": [
    "from quairkit.application import PQCombNet\n",
    "from quairkit.qinfo import dagger\n",
    "import quairkit as qkit\n",
    "import torch\n",
    "\n",
    "\n",
    "# Define the target function\n",
    "def transpose(unitary: torch.Tensor) -> torch.Tensor:\n",
    "    return unitary.transpose(-1, -2).contiguous()\n",
    "\n",
    "\n",
    "qkit.set_dtype(\"complex128\")"
   ]
  },
  {
   "cell_type": "code",
   "execution_count": null,
   "metadata": {},
   "outputs": [],
   "source": [
    "# Define the dimension of the unitaries to be transformed\n",
    "slot_dim = 3\n",
    "\n",
    "# Define the final number of slots\n",
    "num_slots = 7\n",
    "\n",
    "# Define the range for ancillary qubits\n",
    "extra_ancilla_dim_list = [i for i in range(1, 10) if i % 2 == 0 or i % 3 == 0]"
   ]
  },
  {
   "cell_type": "code",
   "execution_count": null,
   "metadata": {},
   "outputs": [],
   "source": [
    "for extra_ancilla in extra_ancilla_dim_list:\n",
    "    net = PQCombNet(\n",
    "        target_function=transpose,\n",
    "        train_mode=\"swap\",\n",
    "        slot_dim=slot_dim,\n",
    "        num_slots=num_slots,\n",
    "        ancilla=[extra_ancilla] + [slot_dim],\n",
    "        train_unitary_info=10000,\n",
    "        test_unitary_info=100000,\n",
    "    )\n",
    "    # NOTE: base_lr is not supposed to be high.\n",
    "    # Since the fidelity gap after appending SWAP gate is small,\n",
    "    # high learning rate may cause the training to diverge.\n",
    "    net.train(base_lr=0.001, is_save_data=True)"
   ]
  }
 ],
 "metadata": {
  "kernelspec": {
   "display_name": "qk",
   "language": "python",
   "name": "python3"
  },
  "language_info": {
   "codemirror_mode": {
    "name": "ipython",
    "version": 3
   },
   "file_extension": ".py",
   "mimetype": "text/x-python",
   "name": "python",
   "nbconvert_exporter": "python",
   "pygments_lexer": "ipython3",
   "version": "3.10.14"
  }
 },
 "nbformat": 4,
 "nbformat_minor": 2
}
